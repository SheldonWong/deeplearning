{
 "cells": [
  {
   "cell_type": "markdown",
   "metadata": {},
   "source": [
    "参考链接：    \n",
    "- [caicloud](https://github.com/caicloud/tensorflow-tutorial/tree/master/Deep_Learning_with_TensorFlow/1.4.0)    \n",
    "- [tensorflow学习笔记](https://github.com/cookeem/TensorFlow_learning_notes)"
   ]
  },
  {
   "cell_type": "markdown",
   "metadata": {},
   "source": [
    "## 计算图\n",
    "\n",
    "- 在tf程序中，系统会自动维护一个默认的计算图\n",
    "- 计算图可以隔离张量和计算，可以通过tf.Graph.devide指定运行计算的设备\n",
    "```python\n",
    "with g.device('/gpu:0'):\n",
    "    result = a + b\n",
    "```"
   ]
  },
  {
   "cell_type": "code",
   "execution_count": 10,
   "metadata": {},
   "outputs": [
    {
     "name": "stdout",
     "output_type": "stream",
     "text": [
      "[0.]\n",
      "[1.]\n"
     ]
    }
   ],
   "source": [
    "import tensorflow.compat.v1 as tf\n",
    "tf.disable_v2_behavior()\n",
    "\n",
    "g1 = tf.Graph()\n",
    "with g1.as_default():\n",
    "    v = tf.get_variable(\"v\",shape=[1],initializer=tf.zeros_initializer)\n",
    "\n",
    "g2 = tf.Graph()\n",
    "with g2.as_default():\n",
    "    v = tf.get_variable(\"v\",shape=[1],initializer=tf.ones_initializer)\n",
    "\n",
    "with tf.Session(graph = g1) as sess:\n",
    "    tf.global_variables_initializer().run()\n",
    "    with tf.variable_scope(\"\",reuse=True):\n",
    "        print(sess.run(tf.get_variable(\"v\")))\n",
    "\n",
    "with tf.Session(graph = g2) as sess:\n",
    "    tf.global_variables_initializer().run()\n",
    "    with tf.variable_scope(\"\",reuse=True):\n",
    "        print(sess.run(tf.get_variable(\"v\")))"
   ]
  },
  {
   "cell_type": "markdown",
   "metadata": {},
   "source": [
    "## 张量\n",
    "- 一个张量中，主要保存了三个属性：name，shape，type\n",
    "- 张量的第一个属性不仅是一个唯一标识符，同样给出了这个丈量是如何计算的。\n",
    "- tf的计算都可以通过计算图的模型来建立，计算图上的每一个节点代表了一个计算，计算的结果就保存在张量中。所以张量和计算图上的节点所代表的计算结果是对应的。这样张量的命名就可以通过“node：src_output”的形式来给出。其中node是节点的名称，src_output表示当前张量来自节点的第几个输出。比如上面打出来的“add：0”，说明result这个张量是计算节点“add”的第一个结果"
   ]
  },
  {
   "cell_type": "code",
   "execution_count": 14,
   "metadata": {},
   "outputs": [
    {
     "name": "stdout",
     "output_type": "stream",
     "text": [
      "Tensor(\"pdd:0\", shape=(2,), dtype=float32)\n"
     ]
    }
   ],
   "source": [
    "a = tf.constant([1.0,2.0],name=\"a\")\n",
    "b = tf.constant([2.0,3.0],name=\"b\")\n",
    "result = tf.add(a,b,name=\"pdd\")\n",
    "print(result)"
   ]
  },
  {
   "cell_type": "markdown",
   "metadata": {},
   "source": [
    "## 会话\n",
    "- 指定默认会话之后，可以通过tf.Tensor.eval函数来计算张量\n",
    "- 通过设置默认会话，可以方便的获取张量的值\n",
    "\n",
    "```python\n",
    "sess = tf.InteractiveSession()\n",
    "print(result.eval())\n",
    "sess.close()\n",
    "```\n",
    "- ConfigProto可以配置线程数，GPU分配策略，运算超时时间等\n",
    "    - allow_soft_placement,当某些计算无法被GPU支持时，可以调整到CPU上执行\n",
    "    - log_device_palcement，记录每个节点被安排到哪个设备，方便调试\n",
    "\n",
    "```python\n",
    "config = tf.ConfigProto(allow_soft_placement=True,log_device_palcement=True)\n",
    "sess = tf.InteractiveSession(config=config)\n",
    "sess = tf.Session(config=config)\n",
    "```"
   ]
  },
  {
   "cell_type": "code",
   "execution_count": 17,
   "metadata": {},
   "outputs": [
    {
     "name": "stdout",
     "output_type": "stream",
     "text": [
      "[3. 5.]\n"
     ]
    }
   ],
   "source": [
    "sess = tf.Session()\n",
    "with sess.as_default():\n",
    "    print(result.eval())"
   ]
  },
  {
   "cell_type": "code",
   "execution_count": 18,
   "metadata": {},
   "outputs": [
    {
     "name": "stdout",
     "output_type": "stream",
     "text": [
      "[3. 5.]\n",
      "[3. 5.]\n"
     ]
    }
   ],
   "source": [
    "with tf.Session() as sess:\n",
    "    print(sess.run(result))\n",
    "    print(result.eval(session=sess))"
   ]
  },
  {
   "cell_type": "code",
   "execution_count": null,
   "metadata": {},
   "outputs": [],
   "source": []
  }
 ],
 "metadata": {
  "kernelspec": {
   "display_name": "Python 3",
   "language": "python",
   "name": "python3"
  },
  "language_info": {
   "codemirror_mode": {
    "name": "ipython",
    "version": 3
   },
   "file_extension": ".py",
   "mimetype": "text/x-python",
   "name": "python",
   "nbconvert_exporter": "python",
   "pygments_lexer": "ipython3",
   "version": "3.6.5"
  }
 },
 "nbformat": 4,
 "nbformat_minor": 2
}
